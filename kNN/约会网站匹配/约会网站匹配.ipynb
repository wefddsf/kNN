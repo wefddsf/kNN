{
 "cells": [
  {
   "cell_type": "code",
   "execution_count": null,
   "id": "d55c1f69",
   "metadata": {
    "scrolled": true
   },
   "outputs": [],
   "source": [
    "import numpy as np\n",
    "import Ipynb_importer\n",
    "import kNN\n",
    "import random"
   ]
  },
  {
   "cell_type": "code",
   "execution_count": null,
   "id": "34f74ae9",
   "metadata": {},
   "outputs": [],
   "source": [
    "##数据获取\n",
    "def getData():\n",
    "    file=open(\"datingTestSet2.txt\",'r')\n",
    "    rawData=file.readlines()\n",
    "    random.shuffle(rawData)\n",
    "    lineNum=len(rawData)\n",
    "    X=np.zeros([lineNum,3])\n",
    "    y=np.zeros(lineNum)\n",
    "    index=0\n",
    "    for lineData in rawData:\n",
    "        lineData=lineData.strip()\n",
    "        splitedData=lineData.split(\"\\t\")\n",
    "        #return splitedData\n",
    "        X[index]=splitedData[:3]\n",
    "        y[index]=int(splitedData[-1])\n",
    "        index+=1\n",
    "    return X,y"
   ]
  },
  {
   "cell_type": "code",
   "execution_count": null,
   "id": "c0f9a1fc",
   "metadata": {},
   "outputs": [],
   "source": [
    "#X,y=getData()"
   ]
  },
  {
   "cell_type": "code",
   "execution_count": null,
   "id": "98e68611",
   "metadata": {},
   "outputs": [],
   "source": [
    "#数据归一化\n",
    "def normData(X):\n",
    "    minValues=X.min(0)\n",
    "    maxValues=X.max(0)\n",
    "    ranges=maxValues-minValues\n",
    "    normDataSet=np.zeros(X.shape)\n",
    "    m=X.shape[0]\n",
    "    normDataSet=X-np.tile(minValues,(m,1))\n",
    "    normDataSet=normDataSet/np.tile(ranges,(m,1))\n",
    "    return normDataSet"
   ]
  },
  {
   "cell_type": "code",
   "execution_count": null,
   "id": "30ec72d7",
   "metadata": {},
   "outputs": [],
   "source": [
    "#normDataSet,ranges,minValues=normData(X)"
   ]
  },
  {
   "cell_type": "code",
   "execution_count": null,
   "id": "03a1c016",
   "metadata": {},
   "outputs": [],
   "source": [
    "#normDataSet"
   ]
  },
  {
   "cell_type": "code",
   "execution_count": null,
   "id": "82ce7843",
   "metadata": {},
   "outputs": [],
   "source": [
    "#数据处理\n",
    "def dataProcess(normData,lable,testSetRatio):\n",
    "    #np.random.shuffle(normData)\n",
    "    testSize=int(normData.shape[0]*testSetRatio)\n",
    "    erroRatio=0.0\n",
    "    for i in range(testSize):\n",
    "        result=kNN.kNN(normData[i],normData[testSize:],lable[testSize:],10)\n",
    "        print(\"the classifier came back with: %d,the real answer is: %d\"%(result,lable[i]))\n",
    "        if(result!=lable[i]):\n",
    "            erroRatio+=1/testSize\n",
    "    print(\"the total error rate is: %f\"%(erroRatio))"
   ]
  },
  {
   "cell_type": "code",
   "execution_count": null,
   "id": "98a20fcc",
   "metadata": {},
   "outputs": [],
   "source": [
    "#测试\n",
    "data,lable=getData()\n",
    "normDataSet=normData(data)\n",
    "dataProcess(normDataSet,lable,0.3)"
   ]
  },
  {
   "cell_type": "code",
   "execution_count": null,
   "id": "f2f925e6",
   "metadata": {},
   "outputs": [],
   "source": [
    "#normDataSet"
   ]
  },
  {
   "cell_type": "code",
   "execution_count": null,
   "id": "984c0c5d",
   "metadata": {},
   "outputs": [],
   "source": []
  }
 ],
 "metadata": {
  "kernelspec": {
   "display_name": "Python 3 (ipykernel)",
   "language": "python",
   "name": "python3"
  },
  "language_info": {
   "codemirror_mode": {
    "name": "ipython",
    "version": 3
   },
   "file_extension": ".py",
   "mimetype": "text/x-python",
   "name": "python",
   "nbconvert_exporter": "python",
   "pygments_lexer": "ipython3",
   "version": "3.10.8"
  }
 },
 "nbformat": 4,
 "nbformat_minor": 5
}
