{
 "cells": [
  {
   "cell_type": "code",
   "execution_count": null,
   "id": "de8b6fb3",
   "metadata": {},
   "outputs": [],
   "source": [
    "import numpy as np\n",
    "import random"
   ]
  },
  {
   "cell_type": "code",
   "execution_count": null,
   "id": "1d590bf3",
   "metadata": {},
   "outputs": [],
   "source": [
    "#数据获取\n",
    "def creatDataSet(size):\n",
    "    X=np.array([[random.randint(0,9) for i in range(3)] for j in range(size)])\n",
    "    y=[random.randint(0,1) for i in range(size)]\n",
    "    return X,y"
   ]
  },
  {
   "cell_type": "code",
   "execution_count": null,
   "id": "47138d1a",
   "metadata": {},
   "outputs": [],
   "source": [
    "#kNN算法\n",
    "def kNN(x_i,X,y,k):\n",
    "    dataSize=X.shape[0]\n",
    "    dist=np.tile(x_i,(dataSize,1))-X\n",
    "    dist**=2\n",
    "    dist=dist.sum(axis=1)\n",
    "    dist=dist**0.5\n",
    "    #return dist\n",
    "    sortedDist=dist.argsort()\n",
    "    classVote={}\n",
    "    for i in range(k):\n",
    "        voteLable=y[sortedDist[i]]\n",
    "        classVote[voteLable]=classVote.get(voteLable,0)+1\n",
    "    #valueList=list(classVote.values())\n",
    "    #maxValue=max(valueList)\n",
    "    sortedClassVote=sorted(classVote.items(),key=lambda item:item[1],reverse=True)\n",
    "    sortedClassVoteList=list(sortedClassVote)\n",
    "    return sortedClassVoteList[0][0]"
   ]
  },
  {
   "cell_type": "code",
   "execution_count": null,
   "id": "c9350496",
   "metadata": {},
   "outputs": [],
   "source": [
    "#测试\n",
    "X,y=creatDataSet(1000)\n",
    "result=kNN([1,2,3],X,y,100)"
   ]
  },
  {
   "cell_type": "code",
   "execution_count": null,
   "id": "6409bf2a",
   "metadata": {},
   "outputs": [],
   "source": [
    "#result"
   ]
  },
  {
   "cell_type": "code",
   "execution_count": null,
   "id": "dfc0e1bf",
   "metadata": {},
   "outputs": [],
   "source": []
  }
 ],
 "metadata": {
  "kernelspec": {
   "display_name": "Python 3 (ipykernel)",
   "language": "python",
   "name": "python3"
  },
  "language_info": {
   "codemirror_mode": {
    "name": "ipython",
    "version": 3
   },
   "file_extension": ".py",
   "mimetype": "text/x-python",
   "name": "python",
   "nbconvert_exporter": "python",
   "pygments_lexer": "ipython3",
   "version": "3.10.8"
  }
 },
 "nbformat": 4,
 "nbformat_minor": 5
}
